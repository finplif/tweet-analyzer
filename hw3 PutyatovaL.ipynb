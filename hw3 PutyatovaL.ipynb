{
 "cells": [
  {
   "cell_type": "markdown",
   "metadata": {},
   "source": [
    "я помогала делать работу Лике Джиоевой и Маше Козловой"
   ]
  },
  {
   "cell_type": "code",
   "execution_count": 1,
   "metadata": {},
   "outputs": [],
   "source": [
    "import re\n",
    "import gensim\n",
    "import logging\n",
    "import nltk.data\n",
    "from nltk.tokenize import word_tokenize\n",
    "from nltk.tokenize import sent_tokenize\n",
    "from pymorphy2 import MorphAnalyzer\n",
    "import pandas as pd\n",
    "import urllib.request\n",
    "from bs4 import BeautifulSoup\n",
    "from nltk.corpus import stopwords\n",
    "from gensim.models import word2vec\n",
    "from sklearn.decomposition import PCA\n",
    "import matplotlib.pyplot as plt\n",
    "%matplotlib inline\n",
    "import random\n",
    "\n",
    "import warnings\n",
    "warnings.filterwarnings('ignore')"
   ]
  },
  {
   "cell_type": "markdown",
   "metadata": {},
   "source": [
    "## 1. преобразование текста "
   ]
  },
  {
   "cell_type": "code",
   "execution_count": 2,
   "metadata": {},
   "outputs": [],
   "source": [
    "with open('yoga-sna.txt_Ascii.txt', encoding='utf-8') as f:\n",
    "    text = f.read()"
   ]
  },
  {
   "cell_type": "markdown",
   "metadata": {},
   "source": [
    "#### разбиваем на предложения"
   ]
  },
  {
   "cell_type": "code",
   "execution_count": 3,
   "metadata": {},
   "outputs": [],
   "source": [
    "text = re.sub(r'\\n', ' ', text)\n",
    "text = sent_tokenize(text)"
   ]
  },
  {
   "cell_type": "code",
   "execution_count": 4,
   "metadata": {},
   "outputs": [],
   "source": [
    "morph = MorphAnalyzer()"
   ]
  },
  {
   "cell_type": "markdown",
   "metadata": {},
   "source": [
    "#### создаем список с леммами"
   ]
  },
  {
   "cell_type": "code",
   "execution_count": 5,
   "metadata": {},
   "outputs": [],
   "source": [
    "words = []\n",
    "for sent in text:\n",
    "    sentences = word_tokenize(sent)\n",
    "    token = [word.lower() for word in sentences]\n",
    "    tokens = [word for word in token if word.isalpha()] \n",
    "    words.append(tokens)"
   ]
  },
  {
   "cell_type": "markdown",
   "metadata": {},
   "source": [
    "#### достаем леммы и формируем из них текст"
   ]
  },
  {
   "cell_type": "code",
   "execution_count": 6,
   "metadata": {},
   "outputs": [],
   "source": [
    "lemmd_sent = []\n",
    "lemmd_text = []\n",
    "poses = [] #это нужно для 5 задания\n",
    "for group in words:\n",
    "    lemmd_sent = []\n",
    "    for unit in group:\n",
    "        ana = morph.parse(unit)\n",
    "        lemma = ana[0].normal_form\n",
    "        lemmd_sent.append(lemma)\n",
    "        pos = ana[0]\n",
    "        if (pos.tag.POS=='PREP') or (pos.tag.POS=='PRCL') or (pos.tag.POS=='CONJ'):\n",
    "            poses.append(pos.normal_form)\n",
    "    lemmd_sents = ' '.join(lemmd_sent)\n",
    "    lemmd_text.append(lemmd_sents)\n",
    "new_text = '\\n'.join(lemmd_text)\n",
    "with open ('novaya-yoga-sna.txt_Ascii.txt', 'w', encoding='utf-8') as f:\n",
    "    f.write(new_text)"
   ]
  },
  {
   "cell_type": "code",
   "execution_count": 7,
   "metadata": {},
   "outputs": [],
   "source": [
    "f = 'novaya-yoga-sna.txt_Ascii.txt'\n",
    "data = gensim.models.word2vec.LineSentence(f)"
   ]
  },
  {
   "cell_type": "markdown",
   "metadata": {},
   "source": [
    "## 2. обучаем модель по заданным параметрам"
   ]
  },
  {
   "cell_type": "markdown",
   "metadata": {},
   "source": [
    "* #### размер вектора 300\n",
    "* #### минимальное количество вхождений 5\n",
    "* #### окно 5\n",
    "* #### количество итераций 50"
   ]
  },
  {
   "cell_type": "code",
   "execution_count": 8,
   "metadata": {},
   "outputs": [],
   "source": [
    "model_yoga = gensim.models.Word2Vec(data, size=300, window=5, min_count=5, iter=50)"
   ]
  },
  {
   "cell_type": "code",
   "execution_count": 9,
   "metadata": {},
   "outputs": [
    {
     "name": "stdout",
     "output_type": "stream",
     "text": [
      "Saving model...\n"
     ]
    }
   ],
   "source": [
    "model_yoga.init_sims(replace=True)\n",
    "model_path = 'yoga.bin'\n",
    "\n",
    "print(\"Saving model...\")\n",
    "model_yoga.wv.save_word2vec_format(model_path, binary=True)"
   ]
  },
  {
   "cell_type": "markdown",
   "metadata": {},
   "source": [
    "#### количество слов в модели"
   ]
  },
  {
   "cell_type": "code",
   "execution_count": 10,
   "metadata": {},
   "outputs": [
    {
     "name": "stdout",
     "output_type": "stream",
     "text": [
      "слов в модели -  761\n"
     ]
    }
   ],
   "source": [
    "print('слов в модели - ', len(model_yoga.wv.vocab))"
   ]
  },
  {
   "cell_type": "markdown",
   "metadata": {},
   "source": [
    "## 3. использование функций"
   ]
  },
  {
   "cell_type": "code",
   "execution_count": 11,
   "metadata": {},
   "outputs": [
    {
     "name": "stdout",
     "output_type": "stream",
     "text": [
      "['viii', 'а', 'автор', 'аспект', 'бардо', 'без', 'белый', 'бесконечный', 'благо', 'благодаря', 'бодрствование', 'божество', 'бок', 'более', 'большой', 'бон', 'бонпо', 'брать', 'будда', 'буддизм', 'буддийский', 'будто', 'будущее', 'будущий', 'буква', 'буквально', 'бусинка', 'бхакшас', 'бы', 'бывать', 'быстро', 'быть', 'в', 'важный', 'ваш', 'введение', 'вверх', 'ввести', 'великий', 'великое', 'вернуться', 'вести', 'весь', 'ветер', 'вещий', 'взглянуть', 'взять', 'вид', 'видение', 'видеть', 'визуализация', 'визуализировать', 'включать', 'включая', 'вместе', 'внезапно', 'вновь', 'внутри', 'вода', 'воздух', 'возможно', 'возможность', 'возникать', 'возникновение', 'возникнуть', 'войти', 'вокруг', 'восемь', 'восприятие', 'восточный', 'вот', 'впечатление', 'впоследствии', 'время', 'врождённый', 'всегда', 'всего', 'вследствие', 'вспомнить', 'всякий', 'вторичный', 'входить', 'вы', 'выйти', 'выполнение', 'выполнить', 'выполнять', 'гараб', 'гаруда', 'где', 'глава', 'главное', 'главный', 'глаз', 'глубокий', 'глубоко', 'гневный', 'говорить', 'год', 'голов', 'голос', 'гора', 'гораздо', 'горе', 'горло', 'гуру', 'да', 'давать', 'даже', 'дакиня', 'дать', 'два', 'движение', 'девять', 'действие', 'действительно', 'делать', 'дело', 'дендуло', 'день', 'дерево', 'джигма', 'дзогчен', 'дзогченовский', 'длинный', 'для', 'дневный', 'днём', 'до', 'довольно', 'долгий', 'должный', 'дордж', 'достаточно', 'достигнуть', 'древний', 'друг', 'другой', 'другп', 'думать', 'дух', 'дхарма', 'дхармадхат', 'дыхание', 'дядя', 'единство', 'если', 'естественный', 'есть', 'ещё', 'же', 'женский', 'женщина', 'живой', 'животное', 'жизнь', 'жить', 'за', 'заболевание', 'зависеть', 'зависимость', 'закончить', 'заметить', 'запад', 'западный', 'записать', 'заснуть', 'засыпание', 'засыпать', 'затем', 'звук', 'здесь', 'зелёный', 'земля', 'зеркало', 'знаете', 'знание', 'знать', 'значение', 'и', 'идти', 'из', 'известный', 'измерение', 'изначальный', 'или', 'иллюзия', 'именно', 'иметь', 'имя', 'индивидуум', 'индия', 'иногда', 'информация', 'использовать', 'истинный', 'история', 'источник', 'исчезнуть', 'итак', 'италия', 'йог', 'к', 'каждый', 'казаться', 'как', 'каков', 'какой', 'канал', 'карма', 'кармический', 'качество', 'китай', 'класс', 'книга', 'когда', 'конец', 'конечный', 'конкретный', 'контакт', 'концентрация', 'концентрироваться', 'который', 'красивый', 'красный', 'кристалл', 'кто', 'кусок', 'лама', 'левый', 'легко', 'лекарство', 'ли', 'лингп', 'лишь', 'лонгде', 'лопон', 'лунный', 'лхундрубль', 'любой', 'лёгкий', 'лёгкое', 'майический', 'маленькая', 'маленький', 'мальчик', 'мандарава', 'манифестация', 'мантра', 'маратик', 'мастер', 'материнский', 'матерь', 'машина', 'медитативный', 'медитационный', 'медитация', 'медицина', 'медицинский', 'медленно', 'между', 'менее', 'мера', 'местный', 'место', 'месяц', 'метод', 'мир', 'мирный', 'многие', 'многий', 'много', 'множество', 'можно', 'мой', 'молитва', 'момент', 'монастырь', 'мочь', 'мудрость', 'мы', 'мысль', 'мыть', 'мышление', 'на', 'назад', 'название', 'назвать', 'называть', 'называться', 'наиболее', 'найти', 'наконец', 'накопление', 'намдак', 'намка', 'намкх', 'намхая', 'написать', 'направление', 'например', 'напряжение', 'насколько', 'наставление', 'настоящее', 'находиться', 'начало', 'начать', 'начинать', 'начинаться', 'наш', 'не', 'небо', 'невозможно', 'невымышленный', 'недавний', 'незнакомый', 'некоторый', 'немного', 'немой', 'необходимость', 'необходимый', 'необычный', 'непал', 'непосредственно', 'непрерывно', 'нереальный', 'несколько', 'нет', 'нея', 'ни', 'никакой', 'никогда', 'ничто', 'но', 'ноздря', 'норба', 'ночной', 'ночь', 'ночью', 'нужно', 'ньен', 'ньял', 'о', 'оба', 'обладать', 'облако', 'обнажённый', 'обнаруживать', 'обнаружить', 'образ', 'обстоятельство', 'обусловить', 'обучать', 'объект', 'объяснение', 'объяснить', 'объяснять', 'обычно', 'обычный', 'огромный', 'один', 'однако', 'означать', 'оказаться', 'около', 'окончательный', 'он', 'она', 'они', 'оно', 'описать', 'опознать', 'определённый', 'опыт', 'освобождение', 'основание', 'основной', 'особенно', 'особый', 'осознавание', 'осознавать', 'осознать', 'оставаться', 'оставить', 'остановиться', 'от', 'ответить', 'открыть', 'отметить', 'относительно', 'относиться', 'отношение', 'отражать', 'отражение', 'отрицательный', 'охранитель', 'очень', 'очистить', 'очищение', 'ощущение', 'падмасамбхав', 'первое', 'перед', 'передать', 'передача', 'переживание', 'перерождение', 'период', 'пещера', 'писать', 'плохой', 'по', 'повседневный', 'повторяться', 'под', 'подготовка', 'подлинный', 'подобно', 'подобный', 'подойти', 'подумать', 'поехать', 'поздний', 'позиция', 'пока', 'полезно', 'полезный', 'полностью', 'полный', 'положительный', 'получать', 'получить', 'польза', 'помнить', 'помогать', 'помочь', 'помощь', 'понимание', 'понимать', 'понять', 'попросить', 'пора', 'посвящение', 'поскольку', 'после', 'последний', 'посмотреть', 'постепенно', 'потенциал', 'потом', 'потому', 'похожий', 'почему', 'почти', 'почувствовать', 'поэтому', 'появиться', 'появляться', 'правый', 'практика', 'практиковать', 'прана', 'пребывать', 'предел', 'предмет', 'представить', 'представлять', 'предыдущий', 'прежде', 'преодолеть', 'препятствие', 'при', 'привести', 'приводить', 'привязанность', 'прийти', 'пример', 'примечание', 'принести', 'принимать', 'принцип', 'природа', 'присутствие', 'приходить', 'причина', 'пришлый', 'проблема', 'пробуждаться', 'провести', 'проводить', 'продвигаться', 'продвинуть', 'продолжать', 'произносить', 'произойти', 'происходить', 'просветление', 'просветлённый', 'проснуться', 'просто', 'простой', 'пространство', 'просыпаться', 'проходить', 'процесс', 'прочитать', 'прошлое', 'прошлый', 'проявиться', 'проявление', 'проявляться', 'прямо', 'психический', 'птица', 'пть', 'пустота', 'пусть', 'путешествие', 'путь', 'пытаться', 'пять', 'работа', 'работать', 'раз', 'развивать', 'развиваться', 'развитие', 'развить', 'различный', 'разница', 'разный', 'ранний', 'рассказать', 'расслабиться', 'растворяться', 'реализация', 'реализовать', 'реальность', 'реальный', 'ребёнок', 'результат', 'рейнольдс', 'релаксация', 'речь', 'ригп', 'ринпочий', 'ритрита', 'род', 'родитель', 'рождение', 'рука', 'ряд', 'с', 'сам', 'самайя', 'самый', 'сантиметр', 'свастика', 'свет', 'свой', 'связанный', 'связать', 'связь', 'священный', 'сделать', 'себя', 'северный', 'сейчас', 'семья', 'семя', 'сердце', 'серия', 'сила', 'сильно', 'сильный', 'символ', 'сип', 'ситуация', 'сказать', 'скал', 'скала', 'след', 'следовать', 'следующий', 'слишком', 'слово', 'слог', 'сложный', 'случай', 'случиться', 'слышать', 'смерть', 'смотреть', 'смочь', 'смысл', 'сначала', 'снова', 'сновидение', 'сновидец', 'собственный', 'событие', 'совершенно', 'совершенный', 'совет', 'советский', 'совсем', 'согласно', 'создавать', 'создать', 'созерцание', 'сознание', 'солнечный', 'солнце', 'сон', 'состояние', 'состоять', 'сохранять', 'спать', 'спонтанно', 'способ', 'способность', 'способный', 'спросить', 'сразу', 'среди', 'становиться', 'стараться', 'статуя', 'стать', 'стервятник', 'столетие', 'сторона', 'страна', 'странный', 'страх', 'субъект', 'существо', 'существование', 'существовать', 'сущностный', 'сущность', 'сфера', 'сходный', 'считаться', 'сын', 'таблетка', 'так', 'также', 'таков', 'такой', 'там', 'тантра', 'тантрический', 'тара', 'тат', 'текст', 'тело', 'тем', 'тема', 'темнота', 'темп', 'тензина', 'теперь', 'терма', 'термин', 'тертон', 'техника', 'течение', 'тиб', 'тибет', 'тибетский', 'тигль', 'тип', 'тиранг', 'то', 'тогда', 'тоже', 'тол', 'только', 'тормоз', 'тот', 'точка', 'точно', 'традиция', 'трансформация', 'трансформировать', 'трегчод', 'три', 'трудно', 'трудность', 'тут', 'тхогея', 'ты', 'у', 'увидеть', 'уддияна', 'уехать', 'уж', 'уже', 'узнать', 'указание', 'указывать', 'ум', 'умирать', 'уполномочивание', 'упражнение', 'уровень', 'усилие', 'условие', 'утверждать', 'утро', 'утром', 'учение', 'ученик', 'учитель', 'фактически', 'физический', 'форма', 'функция', 'хороший', 'хорошо', 'хотеть', 'хотя', 'храм', 'царь', 'цветок', 'цель', 'центр', 'центральный', 'церемония', 'чакра', 'часто', 'часть', 'человек', 'человеческий', 'чем', 'через', 'четыре', 'чжанчуб', 'число', 'чистый', 'читать', 'чортен', 'что', 'чтобы', 'чувство', 'чувствовать', 'шесть', 'шитро', 'экаджатить', 'элемент', 'энергия', 'это', 'этот', 'я', 'являться', 'язык', 'ясно', 'ясность', 'ясный']\n"
     ]
    }
   ],
   "source": [
    "words = sorted([w for w in model_yoga.wv.vocab])\n",
    "print(words)"
   ]
  },
  {
   "cell_type": "markdown",
   "metadata": {},
   "source": [
    "### найти ближайшие 5 слов для:"
   ]
  },
  {
   "cell_type": "markdown",
   "metadata": {},
   "source": [
    "#### животного"
   ]
  },
  {
   "cell_type": "code",
   "execution_count": 12,
   "metadata": {},
   "outputs": [
    {
     "data": {
      "text/plain": [
       "[('кусок', 0.972676157951355),\n",
       " ('птица', 0.9627500176429749),\n",
       " ('скал', 0.9576112031936646),\n",
       " ('гора', 0.9560835957527161),\n",
       " ('уехать', 0.954208254814148)]"
      ]
     },
     "execution_count": 12,
     "metadata": {},
     "output_type": "execute_result"
    }
   ],
   "source": [
    "model_yoga.wv.most_similar(\"стервятник\", topn=5)"
   ]
  },
  {
   "cell_type": "markdown",
   "metadata": {},
   "source": [
    "#### абстрактного понятия"
   ]
  },
  {
   "cell_type": "code",
   "execution_count": 13,
   "metadata": {},
   "outputs": [
    {
     "data": {
      "text/plain": [
       "[('сновидение', 0.9450933933258057),\n",
       " ('появляться', 0.9424070715904236),\n",
       " ('привязанность', 0.9406808018684387),\n",
       " ('вследствие', 0.9296247363090515),\n",
       " ('развивать', 0.9268180727958679)]"
      ]
     },
     "execution_count": 13,
     "metadata": {},
     "output_type": "execute_result"
    }
   ],
   "source": [
    "model_yoga.wv.most_similar(\"ясность\", topn=5)"
   ]
  },
  {
   "cell_type": "markdown",
   "metadata": {},
   "source": [
    "#### имени главного героя (в моей книге главный герой - человек)"
   ]
  },
  {
   "cell_type": "code",
   "execution_count": 14,
   "metadata": {},
   "outputs": [
    {
     "data": {
      "text/plain": [
       "[('ребёнок', 0.879213809967041),\n",
       " ('странный', 0.8722853064537048),\n",
       " ('принимать', 0.8520383834838867),\n",
       " ('быть', 0.8508052825927734),\n",
       " ('длинный', 0.8459328413009644)]"
      ]
     },
     "execution_count": 14,
     "metadata": {},
     "output_type": "execute_result"
    }
   ],
   "source": [
    "model_yoga.wv.most_similar(\"человек\", topn=5)"
   ]
  },
  {
   "cell_type": "markdown",
   "metadata": {},
   "source": [
    "#### прилагательного \"хороший\""
   ]
  },
  {
   "cell_type": "code",
   "execution_count": 15,
   "metadata": {},
   "outputs": [
    {
     "data": {
      "text/plain": [
       "[('помнить', 0.9786468744277954),\n",
       " ('теперь', 0.9747029542922974),\n",
       " ('узнать', 0.9657723903656006),\n",
       " ('идти', 0.9646636247634888),\n",
       " ('ясно', 0.9642211198806763)]"
      ]
     },
     "execution_count": 15,
     "metadata": {},
     "output_type": "execute_result"
    }
   ],
   "source": [
    "model_yoga.wv.most_similar(\"хороший\", topn=5)"
   ]
  },
  {
   "cell_type": "markdown",
   "metadata": {},
   "source": [
    "#### прилагательного \"плохой\""
   ]
  },
  {
   "cell_type": "code",
   "execution_count": 16,
   "metadata": {},
   "outputs": [
    {
     "data": {
      "text/plain": [
       "[('глубоко', 0.9605590105056763),\n",
       " ('отрицательный', 0.9588527679443359),\n",
       " ('трудность', 0.9505876302719116),\n",
       " ('ни', 0.9488650560379028),\n",
       " ('ситуация', 0.9477555155754089)]"
      ]
     },
     "execution_count": 16,
     "metadata": {},
     "output_type": "execute_result"
    }
   ],
   "source": [
    "model_yoga.wv.most_similar(\"плохой\", topn=5)"
   ]
  },
  {
   "cell_type": "markdown",
   "metadata": {},
   "source": [
    "### найти семантическую пропорцию"
   ]
  },
  {
   "cell_type": "code",
   "execution_count": 17,
   "metadata": {},
   "outputs": [
    {
     "name": "stdout",
     "output_type": "stream",
     "text": [
      "последний\n"
     ]
    }
   ],
   "source": [
    "print(model_yoga.most_similar(positive=['начало', 'объект'], negative=['привязанность'])[0][0])"
   ]
  },
  {
   "cell_type": "markdown",
   "metadata": {},
   "source": [
    "### найти лишнее в списке слов"
   ]
  },
  {
   "cell_type": "code",
   "execution_count": 18,
   "metadata": {
    "scrolled": true
   },
   "outputs": [
    {
     "data": {
      "text/plain": [
       "'ребёнок'"
      ]
     },
     "execution_count": 18,
     "metadata": {},
     "output_type": "execute_result"
    }
   ],
   "source": [
    "model_yoga.wv.doesnt_match(\"помощь развитие ребёнок путь учение\".split())"
   ]
  },
  {
   "cell_type": "markdown",
   "metadata": {},
   "source": [
    "## 4. попробую сделать визуализацию"
   ]
  },
  {
   "cell_type": "code",
   "execution_count": 19,
   "metadata": {},
   "outputs": [],
   "source": [
    "words = ['ветер', 'вода', 'воздух', 'гора', 'дерево', 'звук', 'земля', \n",
    "         'кристалл', 'облако', 'прана', 'природа', 'цветок']  \n",
    "X = model_yoga[words]"
   ]
  },
  {
   "cell_type": "code",
   "execution_count": 20,
   "metadata": {},
   "outputs": [],
   "source": [
    "pca = PCA(n_components=2)\n",
    "coords = pca.fit_transform(X)"
   ]
  },
  {
   "cell_type": "code",
   "execution_count": 21,
   "metadata": {},
   "outputs": [
    {
     "data": {
      "image/png": "[encoded data removed]",
      "text/plain": [
       "<Figure size 432x288 with 1 Axes>"
      ]
     },
     "metadata": {
      "needs_background": "light"
     },
     "output_type": "display_data"
    }
   ],
   "source": [
    "plt.scatter(coords[:, 0], coords[:, 1], color='Aquamarine')\n",
    "plt.title('Words')\n",
    "\n",
    "for i, word in enumerate(words):\n",
    "    plt.annotate(word, xy=(coords[i, 0], coords[i, 1]))\n",
    "plt.show()"
   ]
  },
  {
   "cell_type": "markdown",
   "metadata": {},
   "source": [
    "#### в принципе, на правду чем-то похоже"
   ]
  },
  {
   "cell_type": "markdown",
   "metadata": {},
   "source": [
    "## 5. взять предложение и замените все слова (которые не являются служебными) на ближайшие по векторам"
   ]
  },
  {
   "cell_type": "code",
   "execution_count": 29,
   "metadata": {},
   "outputs": [
    {
     "name": "stdout",
     "output_type": "stream",
     "text": [
      "возьмем предложение:  я подумать что прежде никогда не слышать о такой релаксировать состояние самайя\n",
      "получим переделанное:  голос ответить что помнить узнать не понимать о иногда релаксировать сознание прямо\n"
     ]
    }
   ],
   "source": [
    "i = random.randint(1,len(text))\n",
    "\n",
    "new_sent = []\n",
    "trial_sent = lemmd_text[i]\n",
    "trial_sent = trial_sent.split()\n",
    "show_trial = ' '.join(trial_sent)\n",
    "print('возьмем предложение: ', show_trial)\n",
    "\n",
    "for word in trial_sent:\n",
    "    if (word in poses) or (word not in model_yoga.wv.vocab):\n",
    "        new_sent.append(word)\n",
    "    else:\n",
    "        new_sent.append(model_yoga.wv.most_similar(word, topn=1)[0][0])\n",
    "\n",
    "sent = ' '.join(new_sent)\n",
    "print('получим переделанное: ', sent)\n"
   ]
  }
 ],
 "metadata": {
  "kernelspec": {
   "display_name": "Python 3",
   "language": "python",
   "name": "python3"
  },
  "language_info": {
   "codemirror_mode": {
    "name": "ipython",
    "version": 3
   },
   "file_extension": ".py",
   "mimetype": "text/x-python",
   "name": "python",
   "nbconvert_exporter": "python",
   "pygments_lexer": "ipython3",
   "version": "3.7.4"
  }
 },
 "nbformat": 4,
 "nbformat_minor": 2
}
