{
 "cells": [
  {
   "cell_type": "markdown",
   "metadata": {},
   "source": [
    "мне помогала Лика Джиоева"
   ]
  },
  {
   "cell_type": "code",
   "execution_count": 24,
   "metadata": {},
   "outputs": [],
   "source": [
    "import sqlite3\n",
    "import re\n",
    "import gensim\n",
    "from gensim.models import word2vec\n",
    "import logging\n",
    "import nltk\n",
    "import nltk.data\n",
    "from nltk.corpus import stopwords\n",
    "from nltk.tokenize import word_tokenize\n",
    "import pandas as pd\n",
    "import urllib.request\n",
    "from bs4 import BeautifulSoup\n",
    "from pprint import pprint\n",
    "from pymorphy2 import MorphAnalyzer\n",
    "from sklearn.decomposition import PCA\n",
    "import matplotlib.pyplot as plt\n",
    "%matplotlib inline\n",
    "import seaborn as sns\n",
    "import os\n",
    "import re\n",
    "import collections\n",
    "import json\n",
    "import string\n",
    "import random\n",
    "import warnings\n",
    "warnings.filterwarnings('ignore')"
   ]
  },
  {
   "cell_type": "markdown",
   "metadata": {},
   "source": [
    "Делаем две таблицы.\n",
    "В первой - информанты (numb integer - id информанта, name_f text - имя, name_s text - фамилия, gender text - пол, age integer - возраст, city text - город)\n",
    "Во второй - ответы (numb integer, question integer, informant_numb integer, time integer)\n",
    "Таблицы связаны по numb integer"
   ]
  },
  {
   "cell_type": "code",
   "execution_count": 26,
   "metadata": {},
   "outputs": [],
   "source": [
    "conn = sqlite3.connect('table.db')\n",
    "c = conn.cursor()\n",
    "\n",
    "names_f = ['София', 'Полина', 'Анна', 'Анастасия', 'Ангелина', 'Алина', 'Арина', \n",
    "         'Карина', 'Алиса', 'Камилла', 'Виктория', 'Варвара', 'Вероника', 'Маргарита', \n",
    "         'Мария', 'Ярослава', 'Ульяна', 'Ксения', 'Кристина', 'Дарья', 'Диана', 'Людмила', \n",
    "         'Диана', 'Виолетта', 'Ольга', 'Денис', 'Константин', 'Владимир', 'Олег', 'Кирилл', \n",
    "         'Степан', 'Никита', 'Глеб', 'Тимофей', 'Александр', 'Юрий', 'Сергей', 'Гарик', 'Максим', 'Даниэль', 'Петр']\n",
    "\n",
    "names_s = ['Smith', 'Pears', 'Cort', 'Tok', 'Pop', 'Nan', 'Dane', 'Kinzy', 'Bib', \n",
    "           'Lilip', 'Sawa', 'Vand', 'Hore', 'Bibo', 'Krol', 'Xen', 'Wolt', 'Vany', \n",
    "           'Nikel', 'Ferrum', 'Neon', 'Lava', 'Cant', 'Didif', 'Xemt', 'Lolopo', 'Sadan', 'Gick', 'Dark', 'White']\n",
    "\n",
    "genders = ['m', 'f', 'other']\n",
    "\n",
    "cities = ['Москва', 'Вологда', 'Пермь', 'Краснодар', 'Ростов-на-Дону', 'Санкт-Петербург', 'Сочи', 'Ейск']\n",
    "\n",
    "c.execute(\"\"\"CREATE TABLE IF NOT EXISTS Informants(id integer PRIMARY KEY, \n",
    "            name text, gender text, age integer, city text, FOREIGN KEY(id) REFERENCES Results(informant_id))\"\"\")\n",
    "\n",
    "c.execute(\"\"\"CREATE TABLE IF NOT EXISTS Results(id integer PRIMARY KEY, \n",
    "             question_number integer, informant_id integer, mark integer, reaction_time_ms integer)\"\"\")\n",
    "\n",
    "conn.commit()\n",
    "\n",
    "x = 0\n",
    "t = 0\n",
    "inf_info = []\n",
    "ans_info = []\n",
    "for i in range(100):\n",
    "    x += 1\n",
    "    name = random.choice(names_f) + ' ' + random.choice(names_s)\n",
    "    gender = random.choice(genders)\n",
    "    city = random.choice(cities)\n",
    "    age = random.randint(18,38)\n",
    "    inf_info.append((i, name, gender, age, city))\n",
    "    \n",
    "    for i in range(1, 6):\n",
    "        t += 1\n",
    "        ans1 = random.randint(1, 5)\n",
    "        ans2 = random.randint(18, 100)\n",
    "        ans_info.append((t, i, x, ans1, ans2))\n",
    "        \n",
    "c.executemany(\"INSERT INTO Informants VALUES (?,?,?,?,?)\", inf_info)\n",
    "c.executemany(\"INSERT INTO Results VALUES (?,?,?,?,?)\", ans_info)\n",
    "conn.commit()"
   ]
  },
  {
   "cell_type": "code",
   "execution_count": null,
   "metadata": {},
   "outputs": [],
   "source": []
  }
 ],
 "metadata": {
  "kernelspec": {
   "display_name": "Python 3 (ipykernel)",
   "language": "python",
   "name": "python3"
  },
  "language_info": {
   "codemirror_mode": {
    "name": "ipython",
    "version": 3
   },
   "file_extension": ".py",
   "mimetype": "text/x-python",
   "name": "python",
   "nbconvert_exporter": "python",
   "pygments_lexer": "ipython3",
   "version": "3.10.4"
  }
 },
 "nbformat": 4,
 "nbformat_minor": 2
}
