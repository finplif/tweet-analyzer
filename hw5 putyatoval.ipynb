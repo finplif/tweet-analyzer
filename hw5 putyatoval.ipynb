{
 "cells": [
  {
   "cell_type": "markdown",
   "metadata": {},
   "source": [
    "# дз 4.2"
   ]
  },
  {
   "cell_type": "markdown",
   "metadata": {},
   "source": [
    "###  людмила путятова, бкл 182"
   ]
  },
  {
   "cell_type": "markdown",
   "metadata": {},
   "source": [
    "#### импортируем все что нужно"
   ]
  },
  {
   "cell_type": "code",
   "execution_count": 1,
   "metadata": {},
   "outputs": [],
   "source": [
    "import requests\n",
    "from bs4 import BeautifulSoup\n",
    "import re\n",
    "from collections import OrderedDict\n",
    "from datetime import datetime"
   ]
  },
  {
   "cell_type": "markdown",
   "metadata": {},
   "source": [
    "#### заходим на сайт и скачиваем его"
   ]
  },
  {
   "cell_type": "code",
   "execution_count": 2,
   "metadata": {},
   "outputs": [],
   "source": [
    "result = requests.get('https://stihi.ru')\n",
    "html = result.text"
   ]
  },
  {
   "cell_type": "markdown",
   "metadata": {},
   "source": [
    "#### инициализируем суп"
   ]
  },
  {
   "cell_type": "code",
   "execution_count": 3,
   "metadata": {},
   "outputs": [],
   "source": [
    "soup = BeautifulSoup(html, 'html.parser')"
   ]
  },
  {
   "cell_type": "markdown",
   "metadata": {},
   "source": [
    "#### найдем все ссылки с подходящим тегом..."
   ]
  },
  {
   "cell_type": "code",
   "execution_count": 4,
   "metadata": {},
   "outputs": [
    {
     "data": {
      "text/plain": [
       "[<a class=\"topref\" href=\"/editor/\">Рекомендуемые произведения →</a>,\n",
       " <a class=\"topref\" href=\"/rating.html\">Полная таблица рейтинга →</a>,\n",
       " <a class=\"topref\" href=\"/authors/editor.html\">Продолжение списка →</a>,\n",
       " <a class=\"topref\" href=\"/authors/invitations.html\">Продолжение списка →</a>,\n",
       " <a class=\"topref\" href=\"/poems/list.html?type=anons\">Продолжение списка анонсов →</a>,\n",
       " <a class=\"topref\" href=\"/tv/\">Свежие записи программ:</a>,\n",
       " <a class=\"topref\" href=\"/tv/turnir2019/\">Таблица «Турнира поэтов» за 2019 год →</a>,\n",
       " <a class=\"topref\" href=\"https://a.litclub.tv/\">Приглашаем авторов для участия в программах</a>]"
      ]
     },
     "execution_count": 4,
     "metadata": {},
     "output_type": "execute_result"
    }
   ],
   "source": [
    "href = soup.find_all('a', {'class': 'topref'})\n",
    "href"
   ]
  },
  {
   "cell_type": "markdown",
   "metadata": {},
   "source": [
    "#### ...и выберем нужную"
   ]
  },
  {
   "cell_type": "code",
   "execution_count": 5,
   "metadata": {},
   "outputs": [
    {
     "data": {
      "text/plain": [
       "'/editor/'"
      ]
     },
     "execution_count": 5,
     "metadata": {},
     "output_type": "execute_result"
    }
   ],
   "source": [
    "link = href[0].attrs['href']\n",
    "link"
   ]
  },
  {
   "cell_type": "markdown",
   "metadata": {},
   "source": [
    "#### склеим"
   ]
  },
  {
   "cell_type": "code",
   "execution_count": 6,
   "metadata": {},
   "outputs": [
    {
     "data": {
      "text/plain": [
       "'https://stihi.ru/editor/'"
      ]
     },
     "execution_count": 6,
     "metadata": {},
     "output_type": "execute_result"
    }
   ],
   "source": [
    "url = 'https://stihi.ru'+link\n",
    "url"
   ]
  },
  {
   "cell_type": "markdown",
   "metadata": {},
   "source": [
    "#### прочитаем новую страницу"
   ]
  },
  {
   "cell_type": "code",
   "execution_count": 7,
   "metadata": {},
   "outputs": [],
   "source": [
    "result_2 = requests.get(url)\n",
    "html = result_2.text"
   ]
  },
  {
   "cell_type": "markdown",
   "metadata": {},
   "source": [
    "#### инициализируем новый суп"
   ]
  },
  {
   "cell_type": "code",
   "execution_count": 8,
   "metadata": {},
   "outputs": [],
   "source": [
    "soup = BeautifulSoup(html, 'html.parser')"
   ]
  },
  {
   "cell_type": "markdown",
   "metadata": {},
   "source": [
    "#### достанем все названия произведений, их авторов и дату публикации и создадим словарь"
   ]
  },
  {
   "cell_type": "code",
   "execution_count": 9,
   "metadata": {},
   "outputs": [
    {
     "data": {
      "text/plain": [
       "{'21.10.2019 16:31': ['Скерцо', 'Алексей Амельченко 47'],\n",
       " '22.10.2019 16:22': ['Библиотечное', 'Ирина Светлова'],\n",
       " '22.10.2019 16:21': ['Четырех собак пройти', 'Сергей Хомутов Рыбинск'],\n",
       " '21.10.2019 16:18': ['Кроме', 'Илья Будницкий'],\n",
       " '21.10.2019 16:16': ['Бросив в печку скорлупу ореха', 'Сергей Пагын'],\n",
       " '22.10.2019 16:14': ['Пасьянс', 'Евгений Глушаков'],\n",
       " '24.10.2019 16:06': ['Волшебная коробочка', 'Ольга Иркегулова'],\n",
       " '15.02.2019 16:02': ['Агнессе', 'Светлана Самченко'],\n",
       " '03.07.2019 16:00': ['Линия жизни', 'Юрий Октябрёв'],\n",
       " '22.10.2019 15:58': ['Переезд', 'Татьяна Бережная 3'],\n",
       " '21.10.2019 15:54': ['Хромоксид', 'Иван Храмовник'],\n",
       " '21.10.2019 15:51': ['Первый снег двора', 'Александр Забродин 3'],\n",
       " '21.10.2019 15:38': ['Грамота моя берестяная', 'Сергей Смирнов-Ямбург'],\n",
       " '22.10.2019 15:32': ['Ассоль', 'Жиль Де Брюн'],\n",
       " '25.10.2019 15:32': ['Пришла пора', 'Марина Николаева-Бурак'],\n",
       " '21.10.2019 15:31': ['Бессонное', 'Лана Юрина'],\n",
       " '22.10.2019 15:02': ['Осенние дожди', 'Нина Дедлова'],\n",
       " '22.10.2019 15:01': ['Порывы', 'Елена Наильевна'],\n",
       " '23.10.2019 14:45': ['Кремль', 'Владимир Мялин'],\n",
       " '24.10.2019 14:44': ['Пусть озера просторы глубоки', 'Таня Иванова-Яковлева'],\n",
       " '24.10.2019 14:34': ['На тоненькой ветке', 'Ирина Молочкова'],\n",
       " '24.10.2019 14:26': ['Ореховое', 'Надежда Бесфамильная'],\n",
       " '24.10.2019 14:24': ['Старые письма', 'Байкина Нина'],\n",
       " '25.10.2019 14:20': ['Свет', 'Полина Орынянская'],\n",
       " '25.10.2019 14:19': ['И слова просты и мысли', 'Зоя Бочинская'],\n",
       " '25.10.2019 14:17': ['Жизнь не кабак, не балаган', 'Юрий Коренблит'],\n",
       " '25.10.2019 14:15': ['На север', 'Вера Сергеевна Бутко'],\n",
       " '25.10.2019 14:11': ['Талант от бога', 'Ирина Светлова'],\n",
       " '23.10.2019 14:44': ['Не переигрывай, поэт', 'Сергей Хомутов Рыбинск'],\n",
       " '23.10.2019 14:43': ['Огонь', 'Юрий Мышонков']}"
      ]
     },
     "execution_count": 9,
     "metadata": {},
     "output_type": "execute_result"
    }
   ],
   "source": [
    "li = []\n",
    "dic = {}\n",
    "\n",
    "title = soup.find_all('a', {'class': 'poemlink'})\n",
    "author = soup.find_all('a', {'class': 'authorlink'})\n",
    "date = soup.find_all('small')\n",
    "\n",
    "for i in range(len(title)):\n",
    "    li = []\n",
    "    li.append(title[i].get_text())\n",
    "    li.append(author[i].get_text())\n",
    "    dic[date[i].get_text().replace('- ', '')] = li\n",
    "\n",
    "dic"
   ]
  },
  {
   "cell_type": "markdown",
   "metadata": {},
   "source": [
    "#### отсортируем словарь"
   ]
  },
  {
   "cell_type": "code",
   "execution_count": 23,
   "metadata": {},
   "outputs": [
    {
     "name": "stdout",
     "output_type": "stream",
     "text": [
      "15.02.2019 16:02 : ['Агнессе', 'Светлана Самченко']\n",
      "03.07.2019 16:00 : ['Линия жизни', 'Юрий Октябрёв']\n",
      "21.10.2019 15:31 : ['Бессонное', 'Лана Юрина']\n",
      "21.10.2019 15:38 : ['Грамота моя берестяная', 'Сергей Смирнов-Ямбург']\n",
      "21.10.2019 15:51 : ['Первый снег двора', 'Александр Забродин 3']\n",
      "21.10.2019 15:54 : ['Хромоксид', 'Иван Храмовник']\n",
      "21.10.2019 16:16 : ['Бросив в печку скорлупу ореха', 'Сергей Пагын']\n",
      "21.10.2019 16:18 : ['Кроме', 'Илья Будницкий']\n",
      "21.10.2019 16:31 : ['Скерцо', 'Алексей Амельченко 47']\n",
      "22.10.2019 15:01 : ['Порывы', 'Елена Наильевна']\n",
      "22.10.2019 15:02 : ['Осенние дожди', 'Нина Дедлова']\n",
      "22.10.2019 15:32 : ['Ассоль', 'Жиль Де Брюн']\n",
      "22.10.2019 15:58 : ['Переезд', 'Татьяна Бережная 3']\n",
      "22.10.2019 16:14 : ['Пасьянс', 'Евгений Глушаков']\n",
      "22.10.2019 16:21 : ['Четырех собак пройти', 'Сергей Хомутов Рыбинск']\n",
      "22.10.2019 16:22 : ['Библиотечное', 'Ирина Светлова']\n",
      "23.10.2019 14:43 : ['Огонь', 'Юрий Мышонков']\n",
      "23.10.2019 14:44 : ['Не переигрывай, поэт', 'Сергей Хомутов Рыбинск']\n",
      "23.10.2019 14:45 : ['Кремль', 'Владимир Мялин']\n",
      "24.10.2019 14:24 : ['Старые письма', 'Байкина Нина']\n",
      "24.10.2019 14:26 : ['Ореховое', 'Надежда Бесфамильная']\n",
      "24.10.2019 14:34 : ['На тоненькой ветке', 'Ирина Молочкова']\n",
      "24.10.2019 14:44 : ['Пусть озера просторы глубоки', 'Таня Иванова-Яковлева']\n",
      "24.10.2019 16:06 : ['Волшебная коробочка', 'Ольга Иркегулова']\n",
      "25.10.2019 14:11 : ['Талант от бога', 'Ирина Светлова']\n",
      "25.10.2019 14:15 : ['На север', 'Вера Сергеевна Бутко']\n",
      "25.10.2019 14:17 : ['Жизнь не кабак, не балаган', 'Юрий Коренблит']\n",
      "25.10.2019 14:19 : ['И слова просты и мысли', 'Зоя Бочинская']\n",
      "25.10.2019 14:20 : ['Свет', 'Полина Орынянская']\n",
      "25.10.2019 15:32 : ['Пришла пора', 'Марина Николаева-Бурак']\n"
     ]
    }
   ],
   "source": [
    "for i in OrderedDict(sorted(dic.items(), key = lambda x:datetime.strptime(x[0], '%d.%m.%Y %H:%M'))):\n",
    "    print(i, ':', dic[i])"
   ]
  },
  {
   "cell_type": "code",
   "execution_count": null,
   "metadata": {},
   "outputs": [],
   "source": []
  }
 ],
 "metadata": {
  "kernelspec": {
   "display_name": "Python 3",
   "language": "python",
   "name": "python3"
  },
  "language_info": {
   "codemirror_mode": {
    "name": "ipython",
    "version": 3
   },
   "file_extension": ".py",
   "mimetype": "text/x-python",
   "name": "python",
   "nbconvert_exporter": "python",
   "pygments_lexer": "ipython3",
   "version": "3.7.4"
  }
 },
 "nbformat": 4,
 "nbformat_minor": 2
}
